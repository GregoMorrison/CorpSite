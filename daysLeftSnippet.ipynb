{
  "nbformat": 4,
  "nbformat_minor": 0,
  "metadata": {
    "colab": {
      "provenance": [],
      "authorship_tag": "ABX9TyMmY3m1K3GW3aCBEI8nXl/H",
      "include_colab_link": true
    },
    "kernelspec": {
      "name": "python3",
      "display_name": "Python 3"
    },
    "language_info": {
      "name": "python"
    }
  },
  "cells": [
    {
      "cell_type": "markdown",
      "metadata": {
        "id": "view-in-github",
        "colab_type": "text"
      },
      "source": [
        "<a href=\"https://colab.research.google.com/github/GregoMorrison/CorpSite/blob/master/daysLeftSnippet.ipynb\" target=\"_parent\"><img src=\"https://colab.research.google.com/assets/colab-badge.svg\" alt=\"Open In Colab\"/></a>"
      ]
    },
    {
      "cell_type": "code",
      "execution_count": 3,
      "metadata": {
        "colab": {
          "base_uri": "https://localhost:8080/"
        },
        "id": "HkXBzFntgdUU",
        "outputId": "5530d2f6-e176-4803-9dc0-254e311f27d3"
      },
      "outputs": [
        {
          "output_type": "stream",
          "name": "stdout",
          "text": [
            "There are 482522 minutes left in the year.\n"
          ]
        }
      ],
      "source": [
        "# prompt: Create code for calculating how minutes are left in the year.\n",
        "\n",
        "import datetime\n",
        "\n",
        "# Get the current date and time.\n",
        "now = datetime.datetime.now()\n",
        "\n",
        "# Get the date and time of the next year.\n",
        "next_year = datetime.datetime(now.year + 1, 1, 1)\n",
        "\n",
        "# Calculate the difference between the two dates and times.\n",
        "difference = next_year - now\n",
        "\n",
        "# Get the number of minutes in the difference.\n",
        "minutes_left = difference.total_seconds() / 60\n",
        "\n",
        "# Print the number of minutes left in the year.\n",
        "print(f\"There are {minutes_left:.0f} minutes left in the year.\")\n"
      ]
    }
  ]
}